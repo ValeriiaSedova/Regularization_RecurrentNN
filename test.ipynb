{
 "metadata": {
  "language_info": {
   "codemirror_mode": {
    "name": "ipython",
    "version": 3
   },
   "file_extension": ".py",
   "mimetype": "text/x-python",
   "name": "python",
   "nbconvert_exporter": "python",
   "pygments_lexer": "ipython3",
   "version": "3.7.4-final"
  },
  "orig_nbformat": 2,
  "kernelspec": {
   "name": "python3",
   "display_name": "Python 3",
   "language": "python"
  }
 },
 "nbformat": 4,
 "nbformat_minor": 2,
 "cells": [
  {
   "cell_type": "code",
   "execution_count": 1,
   "metadata": {},
   "outputs": [
    {
     "output_type": "stream",
     "name": "stdout",
     "text": [
      "Populating the interactive namespace from numpy and matplotlib\n"
     ]
    }
   ],
   "source": [
    "%pylab inline"
   ]
  },
  {
   "cell_type": "code",
   "execution_count": null,
   "metadata": {},
   "outputs": [],
   "source": [
    "linalg.norm(array([1/sqrt(2), 1/sqrt(2)]), 2)"
   ]
  },
  {
   "cell_type": "code",
   "execution_count": 9,
   "metadata": {},
   "outputs": [
    {
     "output_type": "stream",
     "name": "stdout",
     "text": [
      "1\n"
     ]
    },
    {
     "output_type": "execute_result",
     "data": {
      "text/plain": [
       "10"
      ]
     },
     "metadata": {},
     "execution_count": 9
    }
   ],
   "source": [
    "class Optimizer:\n",
    "\n",
    "    def __init__(self):\n",
    "        self.r = None\n",
    "\n",
    "    def reg(self,w):\n",
    "        if self.r != None:\n",
    "            return self.learning_rate * w\n",
    "        else:\n",
    "            return w\n",
    "\n",
    "class Child(Optimizer):\n",
    "\n",
    "    def __init__(self, lr):\n",
    "        super().__init__()\n",
    "        self.learning_rate = lr\n",
    "\n",
    "    def calc(self, w):\n",
    "        return self.reg(w)\n",
    "\n",
    "c = Child(5)\n",
    "c.r = 1\n",
    "c.calc(2)"
   ]
  },
  {
   "cell_type": "code",
   "execution_count": null,
   "metadata": {},
   "outputs": [],
   "source": []
  }
 ]
}